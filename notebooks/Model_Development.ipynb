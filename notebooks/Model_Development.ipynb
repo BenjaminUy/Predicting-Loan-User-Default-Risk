{
  "nbformat": 4,
  "nbformat_minor": 0,
  "metadata": {
    "colab": {
      "provenance": []
    },
    "kernelspec": {
      "name": "python3",
      "display_name": "Python 3"
    },
    "language_info": {
      "name": "python"
    }
  },
  "cells": [
    {
      "cell_type": "markdown",
      "source": [
        "# **India Loan Users - Model Development**\n",
        "Notebook creator: Benjamin Uy\n",
        "\n",
        "Date created: 6/30/2025\n",
        "\n",
        "---\n",
        "Introduction: This is my Jupyter notebook for model development on a dataset of loan customers from India.\n",
        "\n",
        "The dataset I will use is a modifed and cleaned version of Kaggle user Subham Surana's \"Loan Prediction Based on Customer Behavior\" (link below).\n",
        "\n",
        "Link to original dataset: https://www.kaggle.com/datasets/subhamjain/loan-prediction-based-on-customer-behavior?select=Training+Data.csv\n",
        "\n",
        "Link to modified dataset: https://github.com/BenjaminUy/Predicting-Loan-User-Default-Risk/blob/main/datasets/loan_users_cleaned.csv"
      ],
      "metadata": {
        "id": "Yu1FZsxBa_-8"
      }
    },
    {
      "cell_type": "code",
      "execution_count": null,
      "metadata": {
        "id": "ODG1X4vgamFV"
      },
      "outputs": [],
      "source": [
        "\n"
      ]
    }
  ]
}